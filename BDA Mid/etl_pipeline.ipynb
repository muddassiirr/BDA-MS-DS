{
 "cells": [
  {
   "cell_type": "code",
   "execution_count": 1,
   "id": "4179d285",
   "metadata": {},
   "outputs": [],
   "source": [
    "import pandas as pd\n",
    "import json\n",
    "import requests\n",
    "import gspread\n",
    "from oauth2client.service_account import ServiceAccountCredentials\n",
    "from pymongo import MongoClient\n",
    "from datetime import datetime\n",
    "from oauth2client.file import Storage\n",
    "from oauth2client.client import flow_from_clientsecrets\n",
    "from oauth2client.tools import run_flow\n",
    "from pymongo.server_api import ServerApi\n"
   ]
  },
  {
   "cell_type": "markdown",
   "id": "5d188dc5",
   "metadata": {},
   "source": [
    "### === 1. Extract Functions ==="
   ]
  },
  {
   "cell_type": "code",
   "execution_count": 2,
   "id": "b4c16f63",
   "metadata": {},
   "outputs": [],
   "source": [
    "def extract_csv():\n",
    "    return pd.read_csv(\"data/sample_data.csv\")\n",
    "\n",
    "\n",
    "def extract_json():\n",
    "    with open(\"data/sample_weather.json\", 'r') as f:\n",
    "        data = json.load(f)\n",
    "    return pd.json_normalize(data)\n",
    "\n",
    "\n",
    "def extract_google_sheet():\n",
    "    scope = ['https://spreadsheets.google.com/feeds', 'https://www.googleapis.com/auth/drive']\n",
    "    \n",
    "    creds_file = 'config/client_secret.json'\n",
    "    token_file = 'config/token.json'\n",
    "    storage = Storage(token_file)\n",
    "\n",
    "    creds = storage.get()\n",
    "    if not creds or creds.invalid:\n",
    "        flow = flow_from_clientsecrets(creds_file, scope)\n",
    "        creds = run_flow(flow, storage)\n",
    "\n",
    "    client = gspread.authorize(creds)    \n",
    "    sheet_url = \"https://docs.google.com/spreadsheets/d/1U4SvCz-F5Qu2iKU7ty0bN2TBlbn1Vyxgc36ZjUyqIEo/edit?gid=0#gid=0\"\n",
    "    sheet = client.open_by_url(sheet_url).sheet1    \n",
    "    data = sheet.get_all_records()\n",
    "    print(data)\n",
    "    return pd.DataFrame(data)\n",
    "\n",
    "\n",
    "def extract_weather_api():\n",
    "    url = \"https://api.openweathermap.org/data/2.5/weather?q=London&appid=4af61d0c0ece8febfeb3e64f467678df\"\n",
    "    res = requests.get(url)\n",
    "    print(res)\n",
    "    return pd.json_normalize(res.json())\n",
    "\n",
    "\n",
    "def extract_from_mongo():\n",
    "    with open('config/db_config.json') as f:\n",
    "        config = json.load(f)    \n",
    "    client = MongoClient(config['mongodb_uri'], server_api=ServerApi('1'))\n",
    "    db = client[config[\"database\"]]\n",
    "    collection = db[config[\"collection\"]]\n",
    "    data = list(collection.find())\n",
    "    print(f\"✅ Extracted {len(data)} records from MongoDB.\")\n",
    "    return pd.DataFrame(data)\n"
   ]
  },
  {
   "cell_type": "markdown",
   "id": "b2e448f3",
   "metadata": {},
   "source": [
    "### === 2. Transform Function ==="
   ]
  },
  {
   "cell_type": "code",
   "execution_count": 3,
   "id": "5fb25e48",
   "metadata": {},
   "outputs": [],
   "source": [
    "def transform_data(df):\n",
    "    import numpy as np        \n",
    "    for col in df.columns:\n",
    "        if df[col].apply(lambda x: isinstance(x, (list, dict))).any():\n",
    "            df[col] = df[col].apply(str)        \n",
    "    df.drop_duplicates(inplace=True)    \n",
    "    df.ffill(inplace=True)            \n",
    "    if 'temp_f' in df.columns and df['temp_f'].notna().any():\n",
    "        df['temp_c'] = (pd.to_numeric(df['temp_f'], errors='coerce') - 32) * 5 / 9\n",
    "    elif 'temperature_f' in df.columns and df['temperature_f'].notna().any():\n",
    "        df['temp_c'] = (pd.to_numeric(df['temperature_f'], errors='coerce') - 32) * 5 / 9\n",
    "\n",
    "    if 'timestamp' in df.columns:\n",
    "        df['timestamp'] = pd.to_datetime(df['timestamp'], errors='coerce', utc=True)\n",
    "        df['timestamp'] = df['timestamp'].dt.strftime('%Y-%m-%dT%H:%M:%SZ')  # ISO 8601 format\n",
    "\n",
    "    def get_numeric_col(*cols):\n",
    "        for col in cols:\n",
    "            if col in df.columns:\n",
    "                return pd.to_numeric(df[col], errors='coerce')\n",
    "        return pd.Series(np.nan, index=df.index)\n",
    "\n",
    "    temp_c = get_numeric_col('temp_c')\n",
    "    humidity = get_numeric_col('humidity', 'main.humidity')\n",
    "    wind_speed = get_numeric_col('wind_speed', 'wind.speed')\n",
    "\n",
    "    df['weather_score'] = (temp_c + humidity + wind_speed) / 3    \n",
    "    df['weather_score'] = df['weather_score'].round(2)    \n",
    "    df.drop(columns=['_id'], errors='ignore', inplace=True)\n",
    "\n",
    "    return df\n"
   ]
  },
  {
   "cell_type": "markdown",
   "id": "a1e761a2",
   "metadata": {},
   "source": [
    "### === 3. Load to MongoDB ==="
   ]
  },
  {
   "cell_type": "code",
   "execution_count": 4,
   "id": "9409c581",
   "metadata": {},
   "outputs": [],
   "source": [
    "def load_to_mongo(df):\n",
    "    with open('config/db_config.json') as f:\n",
    "        config = json.load(f)\n",
    "    client = MongoClient(config['mongodb_uri'])\n",
    "    db = client[config['database']]\n",
    "    collection = db[config['collection']]\n",
    "    collection.insert_many(df.to_dict(orient='records'))\n"
   ]
  },
  {
   "cell_type": "markdown",
   "id": "9efb0acb",
   "metadata": {},
   "source": [
    "### === 4. Main ==="
   ]
  },
  {
   "cell_type": "code",
   "execution_count": 6,
   "id": "6733df12",
   "metadata": {},
   "outputs": [
    {
     "name": "stdout",
     "output_type": "stream",
     "text": [
      "Starting ETL job...\n"
     ]
    },
    {
     "name": "stderr",
     "output_type": "stream",
     "text": [
      "Not all requested scopes were granted by the authorization server, missing scopes https://spreadsheets.google.com/feeds.\n"
     ]
    },
    {
     "name": "stdout",
     "output_type": "stream",
     "text": [
      "[{'id': 23, 'name': 'Station D', 'temperature_f': 75, 'humidity': 65, 'timestamp': '2025-04-05 08:00:00'}]\n",
      "<Response [200]>\n",
      "✅ Extracted 442 records from MongoDB.\n",
      "ETL job completed successfully.\n"
     ]
    }
   ],
   "source": [
    "def main():\n",
    "    print(\"Starting ETL job...\")\n",
    "    # Extract\n",
    "    df_csv = extract_csv()\n",
    "    df_json = extract_json()\n",
    "    df_sheet = extract_google_sheet()\n",
    "    df_api = extract_weather_api()\n",
    "    df_mongo = extract_from_mongo()\n",
    "    # Merge all\n",
    "    df_all = pd.concat([df_csv, df_json, df_sheet, df_api, df_mongo], ignore_index=True, sort=False)\n",
    "    # Transform\n",
    "    df_clean = transform_data(df_all)\n",
    "    # Load\n",
    "    load_to_mongo(df_clean)\n",
    "    # Export\n",
    "    df_clean.to_csv(\"result/final_cleaned_data.csv\", index=False)\n",
    "    print(\"ETL job completed successfully.\")\n",
    "\n",
    "if __name__ == \"__main__\":\n",
    "    main()\n"
   ]
  },
  {
   "cell_type": "code",
   "execution_count": null,
   "id": "20bf795b",
   "metadata": {},
   "outputs": [],
   "source": []
  }
 ],
 "metadata": {
  "kernelspec": {
   "display_name": "Python 3 (ipykernel)",
   "language": "python",
   "name": "python3"
  },
  "language_info": {
   "codemirror_mode": {
    "name": "ipython",
    "version": 3
   },
   "file_extension": ".py",
   "mimetype": "text/x-python",
   "name": "python",
   "nbconvert_exporter": "python",
   "pygments_lexer": "ipython3",
   "version": "3.11.7"
  }
 },
 "nbformat": 4,
 "nbformat_minor": 5
}
